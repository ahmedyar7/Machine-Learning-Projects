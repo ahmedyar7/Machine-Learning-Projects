{
 "cells": [
  {
   "cell_type": "markdown",
   "metadata": {},
   "source": [
    "## Description:\n",
    "\n",
    "This dataset contains information on the signs and symptoms of newly diagnosed diabetic patients or those at risk of developing diabetes. The data was collected through direct questionnaires administered to patients at the Sylhet Diabetes Hospital in Sylhet, Bangladesh, and approved by a doctor.\n",
    "\n",
    "## Purpose:\n",
    "\n",
    "To predict the likelihood of diabetes at an early stage using data mining techniques.\n",
    "\n",
    "## Variables Table:\n",
    "\n",
    "- `age (Feature, Integer):` Age of the patient\n",
    "- `gender (Feature, Categorical):` Gender of the patient\n",
    "- `polyuria (Feature, Binary):` Presence of polyuria (Yes/No)\n",
    "- `polydipsia (Feature, Binary):` Presence of polydipsia (Yes/No)\n",
    "- `sudden_weight_loss (Feature, Binary):` Experience of sudden weight loss (Yes/No)\n",
    "- `weakness (Feature, Binary):` Experience of weakness (Yes/No)\n",
    "- `polyphagia (Feature, Binary):` Presence of polyphagia (Yes/No)\n",
    "- `genital_thrush (Feature, Binary):` Presence of genital thrush (Yes/No)\n",
    "- `visual_blurring (Feature, Binary):` Experience of visual blurring (Yes/No)\n",
    "- `itching (Feature, Binary):` Experience of itching (Yes/No)\n"
   ]
  },
  {
   "cell_type": "markdown",
   "metadata": {},
   "source": [
    "## Import Statements\n"
   ]
  },
  {
   "cell_type": "code",
   "execution_count": 1,
   "metadata": {},
   "outputs": [],
   "source": [
    "# Data Analysis\n",
    "import pandas as pd\n",
    "import numpy as np\n",
    "\n",
    "# Data Visulization\n",
    "import matplotlib.pyplot as plt\n",
    "import seaborn as sns\n",
    "\n",
    "sns.set_theme(\"notebook\")\n",
    "import plotly.express as px\n",
    "\n",
    "# Model Training\n",
    "from sklearn.linear_model import LogisticRegression\n",
    "from sklearn.neighbors import KNeighborsClassifier\n",
    "from sklearn.tree import DecisionTreeClassifier\n",
    "from sklearn.svm import SVC\n",
    "from sklearn.preprocessing import LabelEncoder\n",
    "from sklearn.impute import SimpleImputer\n",
    "from sklearn.metrics import (\n",
    "    classification_report,\n",
    "    confusion_matrix,\n",
    "    accuracy_score,\n",
    "    r2_score,\n",
    "    jaccard_score,\n",
    ")\n",
    "\n",
    "# Other\n",
    "from itertools import product"
   ]
  },
  {
   "cell_type": "code",
   "execution_count": 2,
   "metadata": {},
   "outputs": [
    {
     "ename": "SyntaxError",
     "evalue": "incomplete input (313360176.py, line 2)",
     "output_type": "error",
     "traceback": [
      "\u001b[1;36m  Cell \u001b[1;32mIn[2], line 2\u001b[1;36m\u001b[0m\n\u001b[1;33m    \"\"\" \"\"\u001b[0m\n\u001b[1;37m    ^\u001b[0m\n\u001b[1;31mSyntaxError\u001b[0m\u001b[1;31m:\u001b[0m incomplete input\n"
     ]
    }
   ],
   "source": [
    "def plot_confusion_matrix(cm, classes, title, cmap, normalize=False):\n",
    "    \"\"\"\n",
    "    This function is used to plot the confusion matrix for the Classification models\n",
    "    \"\"\"\n",
    "\n",
    "    if normalize:\n",
    "        cm = cm.astype(\"float\") / cm.sum(axis=1)[:, np.newaxis]\n",
    "        print(\"Normalized Confusion Matrix\")\n",
    "    else:\n",
    "        print(\"UnNormalize Confusion Matrix\")\n",
    "    print(cm)\n",
    "\n",
    "    plt.title(title)\n",
    "    plt.imshow(cm, interpolation=\"nearest\", cmap=cmap)\n",
    "    plt.colorbar()\n",
    "\n",
    "    tick_marks = np.arange(len(classes))\n",
    "    plt.xticks(tick_marks, classes)\n",
    "    plt.yticks(tick_marks, classes)\n",
    "\n",
    "    fmt = \".2f\" if normalize else \"d\"\n",
    "    threshold = cm.max() / 2.0\n",
    "    labels = [[\"TP\", \"TN\"], [\"FP\", \"FN\"]]\n",
    "\n",
    "    for i, j in product(range(cm.shape[0]), range(cm.shape[1])):\n",
    "        plt.text(\n",
    "            j,\n",
    "            i,\n",
    "            f\"{format(cm[i,j],fmt)}\\n{labels[i][j]}\",\n",
    "            horizontalalignment=\"center\",\n",
    "            color=\"white\" if cm[i, j] > threshold else \"black\",\n",
    "        )\n",
    "\n",
    "    plt.xlabel(\"Predicted Labels\")\n",
    "    plt.ylabel(\"Actual Labels\")\n",
    "    plt.tight_layout()\n",
    "    plt.show()"
   ]
  },
  {
   "cell_type": "code",
   "execution_count": null,
   "metadata": {},
   "outputs": [],
   "source": []
  }
 ],
 "metadata": {
  "kernelspec": {
   "display_name": "Python 3",
   "language": "python",
   "name": "python3"
  },
  "language_info": {
   "codemirror_mode": {
    "name": "ipython",
    "version": 3
   },
   "file_extension": ".py",
   "mimetype": "text/x-python",
   "name": "python",
   "nbconvert_exporter": "python",
   "pygments_lexer": "ipython3",
   "version": "3.12.2"
  }
 },
 "nbformat": 4,
 "nbformat_minor": 2
}
