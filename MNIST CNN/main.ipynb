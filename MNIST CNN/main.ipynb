{
  "nbformat": 4,
  "nbformat_minor": 0,
  "metadata": {
    "colab": {
      "private_outputs": true,
      "provenance": [],
      "gpuType": "T4"
    },
    "kernelspec": {
      "name": "python3",
      "display_name": "Python 3"
    },
    "language_info": {
      "name": "python"
    },
    "accelerator": "GPU"
  },
  "cells": [
    {
      "cell_type": "markdown",
      "source": [
        "## Import Statements"
      ],
      "metadata": {
        "id": "Pp85M7W0eaE5"
      }
    },
    {
      "cell_type": "code",
      "source": [
        "import numpy as np\n",
        "import keras\n",
        "from keras.models import Sequential\n",
        "from keras.layers import Dense, Conv2D , MaxPooling2D, Flatten\n",
        "from keras.datasets import mnist\n",
        "from keras.utils import to_categorical\n",
        "import matplotlib.pyplot as plt\n",
        "import random"
      ],
      "metadata": {
        "id": "h2v7nqCfn5SZ"
      },
      "execution_count": null,
      "outputs": []
    },
    {
      "cell_type": "code",
      "source": [
        "# Load DataSet\n",
        "(X_train, y_train), (X_test, y_test) = mnist.load_data()\n",
        "\n",
        "print(\"X_train \", X_train.shape)\n",
        "print(\"y_train \", y_train.shape)\n",
        "print(\"X_test \", X_test.shape)\n",
        "print(\"y_test \", y_test.shape)"
      ],
      "metadata": {
        "id": "F1ZTTRBFoWyA"
      },
      "execution_count": null,
      "outputs": []
    },
    {
      "cell_type": "markdown",
      "source": [
        "## Dataset Normalization"
      ],
      "metadata": {
        "id": "qtYL3V0Eeev4"
      }
    },
    {
      "cell_type": "code",
      "source": [
        "# Reshaping The Data\n",
        "X_train = X_train.reshape(X_train.shape[0], 28, 28, 1).astype(\"float32\")\n",
        "X_test = X_test.reshape(X_test.shape[0], 28, 28, 1).astype(\"float32\")\n",
        "\n",
        "# Normalize the Data\n",
        "X_train = X_train / 255\n",
        "X_test = X_test / 255\n",
        "\n",
        "# Converting test Data to categorical\n",
        "y_train = to_categorical(y_train)\n",
        "y_test = to_categorical(y_test)\n",
        "num_classes = y_test.shape[1]"
      ],
      "metadata": {
        "id": "GnAF1sHeoloS"
      },
      "execution_count": null,
      "outputs": []
    },
    {
      "cell_type": "markdown",
      "source": [
        "### Single-Layer CNN"
      ],
      "metadata": {
        "id": "DYjlg-o3ej14"
      }
    },
    {
      "cell_type": "code",
      "source": [
        "def single_layer_CNN():\n",
        "   model = Sequential()\n",
        "   model.add(Conv2D(16, kernel_size=(5,5), strides=(1,1), activation='relu', input_shape=(28,28,1)))\n",
        "   model.add(MaxPooling2D(pool_size=(2,2), strides=(2,2)))\n",
        "   model.add(Flatten())\n",
        "   model.add(Dense(100, activation='relu'))\n",
        "   model.add(Dense(num_classes, activation='softmax'))\n",
        "   model.compile(optimizer='adam', metrics=['accuracy'], loss='categorical_crossentropy')\n",
        "   return model"
      ],
      "metadata": {
        "id": "7t-CHkVzp3S2"
      },
      "execution_count": null,
      "outputs": []
    },
    {
      "cell_type": "code",
      "source": [
        "model = single_layer_CNN()\n",
        "model.fit(\n",
        "    X_train,\n",
        "    y_train,\n",
        "    validation_data=(X_test, y_test),\n",
        "    epochs=10,\n",
        "    batch_size=200,\n",
        "    verbose=2,\n",
        ")"
      ],
      "metadata": {
        "collapsed": true,
        "id": "rfNxC0iSsDDR"
      },
      "execution_count": null,
      "outputs": []
    },
    {
      "cell_type": "markdown",
      "source": [
        "### Model Performance"
      ],
      "metadata": {
        "id": "zEPblgyef-m4"
      }
    },
    {
      "cell_type": "code",
      "source": [
        "scores = model.evaluate(X_test,y_test,verbose=0)\n",
        "print(f\"Accuracy = {round(scores[1] * 100, 2)}\")\n",
        "print(f\"Error_Rate = {round(100 - scores[1] * 100, 2)}\")"
      ],
      "metadata": {
        "id": "eg0grtgbsgD3"
      },
      "execution_count": null,
      "outputs": []
    },
    {
      "cell_type": "markdown",
      "source": [
        "### Single Layer CNN Visualization"
      ],
      "metadata": {
        "id": "BhvoO0V7fz0a"
      }
    },
    {
      "cell_type": "code",
      "source": [
        "y_pred = model.predict(X_test)\n",
        "\n",
        "y_pred_labels = np.argmax(y_pred, axis=1)\n",
        "y_test_labels = np.argmax(y_test, axis=1)\n",
        "\n",
        "fig, axes = plt.subplots(6, 5, figsize=(12, 6),dpi=500)\n",
        "axes = axes.ravel()\n",
        "random_sample = random.sample(range(len(X_test)), 30)\n",
        "\n",
        "for i, idx in enumerate(random_sample):\n",
        "    axes[i].imshow(X_test[idx].reshape(28, 28), cmap='magma')\n",
        "    axes[i].set_title(f\"True: {y_test_labels[idx]}, Predicted: {y_pred_labels[idx]}\")\n",
        "    axes[i].axis('off')  # Hide the axes\n",
        "\n",
        "plt.tight_layout()\n",
        "plt.show()"
      ],
      "metadata": {
        "id": "OfVoMpBSfMjy"
      },
      "execution_count": null,
      "outputs": []
    },
    {
      "cell_type": "markdown",
      "source": [
        "### Multi-Layered CNN"
      ],
      "metadata": {
        "id": "ElckFMcHe9xo"
      }
    },
    {
      "cell_type": "code",
      "source": [
        "def multi_layered_CNN():\n",
        "    model = Sequential()\n",
        "    model.add(Conv2D(16, kernel_size=(5,5), strides=(1,1), activation='relu', input_shape=(28,28,1)))\n",
        "    model.add(MaxPooling2D(pool_size=(2,2), strides=(2,2)))\n",
        "    model.add(Conv2D(8, kernel_size=(2,2), strides=(1,1), activation='relu'))\n",
        "    model.add(MaxPooling2D(pool_size=(1,1), strides=(1,1)))\n",
        "    model.add(Flatten())\n",
        "    model.add(Dense(100, activation='relu'))\n",
        "    model.add(Dense(num_classes,activation='softmax'))\n",
        "    model.compile(optimizer='adam', loss='categorical_crossentropy', metrics=['accuracy'])\n",
        "    return model\n"
      ],
      "metadata": {
        "id": "xt7ea-dtuC3C"
      },
      "execution_count": null,
      "outputs": []
    },
    {
      "cell_type": "code",
      "source": [
        "model = multi_layered_CNN()\n",
        "model.fit(X_train,y_train, validation_data=(X_test,y_test), batch_size=2000, verbose=2, epochs=10)"
      ],
      "metadata": {
        "collapsed": true,
        "id": "V8GZQqsex43i"
      },
      "execution_count": null,
      "outputs": []
    },
    {
      "cell_type": "markdown",
      "source": [
        "### Multi-layer CNN Performance"
      ],
      "metadata": {
        "id": "R2qyBjjzgF4Z"
      }
    },
    {
      "cell_type": "code",
      "source": [
        "scores = model.evaluate(X_test,y_test,verbose=0)\n",
        "print(f\"Accuracy: {round(scores[1]*100, 2)}\")\n",
        "print(f\"Error Rate: {round(100- scores[1] *100, 2)}\")"
      ],
      "metadata": {
        "id": "MbPq2jDxy5RL"
      },
      "execution_count": null,
      "outputs": []
    },
    {
      "cell_type": "markdown",
      "source": [
        "### Multi-layer CNN Visualization"
      ],
      "metadata": {
        "id": "cjTV785TgbD5"
      }
    },
    {
      "cell_type": "code",
      "source": [
        "y_pred = model.predict(X_test)\n",
        "\n",
        "y_pred_labels = np.argmax(y_pred, axis=1)\n",
        "y_test_labels = np.argmax(y_test, axis=1)\n",
        "\n",
        "fig, axes = plt.subplots(6, 5, figsize=(12, 6),dpi=500)\n",
        "axes = axes.ravel()\n",
        "random_sample = random.sample(range(len(X_test)), 30)\n",
        "\n",
        "for i, idx in enumerate(random_sample):\n",
        "    axes[i].imshow(X_test[idx].reshape(28, 28), cmap='magma')\n",
        "    axes[i].set_title(f\"True: {y_test_labels[idx]}, Predicted: {y_pred_labels[idx]}\")\n",
        "    axes[i].axis('off')  # Hide the axes\n",
        "\n",
        "plt.tight_layout()\n",
        "plt.show()"
      ],
      "metadata": {
        "collapsed": true,
        "id": "CdRuCSYg1MKF"
      },
      "execution_count": null,
      "outputs": []
    },
    {
      "cell_type": "markdown",
      "source": [
        "## Neural Network"
      ],
      "metadata": {
        "id": "CMdu7gffglQg"
      }
    },
    {
      "cell_type": "code",
      "source": [
        "def classification_NN():\n",
        "    model = Sequential()\n",
        "    model.add(Flatten(input_shape=(28, 28, 1)))\n",
        "    model.add(Dense(50, activation='relu', input_shape=(28,28,1,) ))\n",
        "    model.add(Dense(25, activation='relu'))\n",
        "    model.add(Dense(25, activation='relu'))\n",
        "    model.add(Dense(num_classes,activation='softmax'))\n",
        "    model.compile(optimizer='adam', metrics=['accuracy'], loss='categorical_crossentropy')\n",
        "    return model"
      ],
      "metadata": {
        "id": "IWRuGksm1Sw9"
      },
      "execution_count": null,
      "outputs": []
    },
    {
      "cell_type": "code",
      "source": [
        "clf = classification_NN()\n",
        "clf.fit(X_train, y_train, validation_data=(X_test, y_test), verbose=2, epochs=10, batch_size=200)\n"
      ],
      "metadata": {
        "id": "8wD4xj-j1Vmt"
      },
      "execution_count": null,
      "outputs": []
    },
    {
      "cell_type": "markdown",
      "source": [
        "### Neural Network Performance"
      ],
      "metadata": {
        "id": "cvbbVjaTgqaI"
      }
    },
    {
      "cell_type": "code",
      "source": [
        "scores = clf.evaluate(X_test,y_test, verbose=0)\n",
        "print(f'Accuracy = {round(scores[1] * 100,2)}')\n",
        "print(f'Accuracy = {round(100-scores[1] * 100,2)}')"
      ],
      "metadata": {
        "id": "w8T85KZBgtwZ"
      },
      "execution_count": null,
      "outputs": []
    },
    {
      "cell_type": "markdown",
      "source": [
        "###Neural Network Visualization"
      ],
      "metadata": {
        "id": "XnO2M-UwgvAR"
      }
    },
    {
      "cell_type": "code",
      "source": [
        "y_pred = clf.predict(X_test)\n",
        "pred_label = np.argmax(y_pred,axis=1)\n",
        "test_label = np.argmax(y_test, axis=1)\n",
        "\n",
        "fig,axes = plt.subplots(5,5,figsize=(12,6), dpi=500)\n",
        "axes = axes.ravel()\n",
        "\n",
        "random_sample = random.sample(range(len(X_test)), 25)\n",
        "\n",
        "for i, idx in enumerate(random_sample):\n",
        "    axes[i].imshow(X_test[idx].reshape(28,28), cmap='magma')\n",
        "    axes[i].set_title(f\"True: {test_label[idx]} -- Prediction: {pred_label[idx]}\")\n",
        "    axes[i].axis('off')\n",
        "plt.tight_layout()\n",
        "plt.show()\n"
      ],
      "metadata": {
        "id": "ElrcafX287gw"
      },
      "execution_count": null,
      "outputs": []
    }
  ]
}